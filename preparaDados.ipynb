{
 "cells": [
  {
   "cell_type": "markdown",
   "metadata": {},
   "source": [
    "Função genérica para download de conjuntos de dados."
   ]
  },
  {
   "cell_type": "code",
   "execution_count": 6,
   "metadata": {
    "collapsed": true
   },
   "outputs": [],
   "source": [
    "import os\n",
    "import tarfile\n",
    "from six.moves import urllib\n",
    "\n",
    "# a url é formada pelo link de download dos dados,pelo path onde os dados\n",
    "# ficarão e pelo nome do arquivo baixado em formato .tgz\n",
    "def fetch_data(url, path, file):\n",
    "    if not os.path.isdir(path):\n",
    "        os.makedirs(path)\n",
    "    tgz_path = os.path.join(path, file)\n",
    "    urllib.request.urlretrieve(url, tgz_path)\n",
    "    file_tgz = tarfile.open(tgz_path)\n",
    "    file_tgz.extractall(path = path)\n",
    "    file_tgz.close()"
   ]
  },
  {
   "cell_type": "code",
   "execution_count": null,
   "metadata": {
    "collapsed": true
   },
   "outputs": [],
   "source": [
    "import pandas as pd\n",
    "import numpy as np\n",
    "\n",
    "# carregando dados\n",
    "dados = pd.read_csv(\"nome.csv\", thousands = ', ', delimeter = '\\t', encoding = 'latin1', na_values = 'n/a')\n",
    "dados1 = pd.read_csv(\"nome.csv\")\n",
    "\n",
    "# preparando os dados\n",
    "country_stats = prepare_country_stats(dados, dados1)\n",
    "x = np.c_[country_stats[\"dados\"]]\n",
    "x = np.c_[country_stats[\"dados1\"]]\n",
    "\n",
    "# plots\n",
    "contry_stats.plot(kind = 'scatter', x = \"dados1\", y = \"dados2\")\n",
    "plt.show()"
   ]
  },
  {
   "cell_type": "code",
   "execution_count": null,
   "metadata": {
    "collapsed": true
   },
   "outputs": [],
   "source": [
    "#dividindo o conjunto de teste e o conjunto de treino\n",
    "import hashlib\n",
    "\n",
    "def split_train_test(dados, razao_teste):\n",
    "    indices_embaralhados = np.random.permutation(len(dados))\n",
    "    tamanho_conjunto_teste = int(len(dados)* razao_teste)\n",
    "    indices_teste = indices_embaralhados[:tamanho_conjunto_teste]\n",
    "    indices_treino = indices_embaralhados[tamanho_conjunto_teste:]\n",
    "    return dados.iloc[indices_treino], data.iloc[indices_teste]\n",
    "\n",
    "def test_set_check(identificador, razao_teste, hash):\n",
    "    return hash(np.int64(identificador)).digest()[-1] < 256 * razao_teste\n",
    "\n",
    "def split_train_test_by_id(dados, razao_teste, id_coluna, hash = hashlib.md5):\n",
    "    ids = dados[id_coluna]\n",
    "    no_conjunto_teste = ids.apply(lamda id_: test_set_check(id_, razao_teste, hash))\n",
    "    return dados.loc[-no_conjunto_teste], dados.loc[no_conjunto_teste]"
   ]
  }
 ],
 "metadata": {
  "kernelspec": {
   "display_name": "Python 3",
   "language": "python",
   "name": "python3"
  },
  "language_info": {
   "codemirror_mode": {
    "name": "ipython",
    "version": 3
   },
   "file_extension": ".py",
   "mimetype": "text/x-python",
   "name": "python",
   "nbconvert_exporter": "python",
   "pygments_lexer": "ipython3",
   "version": "3.6.3"
  }
 },
 "nbformat": 4,
 "nbformat_minor": 2
}
